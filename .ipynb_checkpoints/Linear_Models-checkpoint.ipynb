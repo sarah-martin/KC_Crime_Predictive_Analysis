{
 "cells": [
  {
   "cell_type": "markdown",
   "metadata": {},
   "source": [
    "# Machine Learning - Linear Regressions "
   ]
  },
  {
   "cell_type": "code",
   "execution_count": 2,
   "metadata": {},
   "outputs": [],
   "source": [
    "# Dependencies \n",
    "import matplotlib.pyplot as plt\n",
    "import numpy as np\n",
    "import pandas as pd\n",
    "\n",
    "from sklearn.model_selection import train_test_split\n",
    "from sklearn.linear_model import LinearRegression\n",
    "from sklearn.metrics import mean_squared_error"
   ]
  },
  {
   "cell_type": "markdown",
   "metadata": {},
   "source": [
    "\n",
    "## Data Cleaning and Preparation"
   ]
  },
  {
   "cell_type": "code",
   "execution_count": 3,
   "metadata": {},
   "outputs": [
    {
     "name": "stderr",
     "output_type": "stream",
     "text": [
      "C:\\Users\\smm11\\anaconda3\\lib\\site-packages\\IPython\\core\\interactiveshell.py:3063: DtypeWarning: Columns (1) have mixed types.Specify dtype option on import or set low_memory=False.\n",
      "  interactivity=interactivity, compiler=compiler, result=result)\n"
     ]
    },
    {
     "data": {
      "text/html": [
       "<div>\n",
       "<style scoped>\n",
       "    .dataframe tbody tr th:only-of-type {\n",
       "        vertical-align: middle;\n",
       "    }\n",
       "\n",
       "    .dataframe tbody tr th {\n",
       "        vertical-align: top;\n",
       "    }\n",
       "\n",
       "    .dataframe thead th {\n",
       "        text-align: right;\n",
       "    }\n",
       "</style>\n",
       "<table border=\"1\" class=\"dataframe\">\n",
       "  <thead>\n",
       "    <tr style=\"text-align: right;\">\n",
       "      <th></th>\n",
       "      <th>Unnamed: 0</th>\n",
       "      <th>Report_No</th>\n",
       "      <th>Reported_Date</th>\n",
       "      <th>IBRS</th>\n",
       "      <th>Race</th>\n",
       "      <th>Sex</th>\n",
       "      <th>Age</th>\n",
       "    </tr>\n",
       "  </thead>\n",
       "  <tbody>\n",
       "    <tr>\n",
       "      <th>0</th>\n",
       "      <td>0</td>\n",
       "      <td>KC20000075</td>\n",
       "      <td>1/1/2020</td>\n",
       "      <td>13A</td>\n",
       "      <td>W</td>\n",
       "      <td>F</td>\n",
       "      <td>22.0</td>\n",
       "    </tr>\n",
       "    <tr>\n",
       "      <th>1</th>\n",
       "      <td>1</td>\n",
       "      <td>KC20000125</td>\n",
       "      <td>1/1/2020</td>\n",
       "      <td>120</td>\n",
       "      <td>B</td>\n",
       "      <td>M</td>\n",
       "      <td>18.0</td>\n",
       "    </tr>\n",
       "    <tr>\n",
       "      <th>2</th>\n",
       "      <td>2</td>\n",
       "      <td>KC20000158</td>\n",
       "      <td>1/1/2020</td>\n",
       "      <td>13A</td>\n",
       "      <td>B</td>\n",
       "      <td>M</td>\n",
       "      <td>NaN</td>\n",
       "    </tr>\n",
       "    <tr>\n",
       "      <th>3</th>\n",
       "      <td>3</td>\n",
       "      <td>KC20000242</td>\n",
       "      <td>1/1/2020</td>\n",
       "      <td>120</td>\n",
       "      <td>B</td>\n",
       "      <td>M</td>\n",
       "      <td>NaN</td>\n",
       "    </tr>\n",
       "    <tr>\n",
       "      <th>4</th>\n",
       "      <td>4</td>\n",
       "      <td>KC20000268</td>\n",
       "      <td>1/2/2020</td>\n",
       "      <td>NaN</td>\n",
       "      <td>W</td>\n",
       "      <td>F</td>\n",
       "      <td>67.0</td>\n",
       "    </tr>\n",
       "  </tbody>\n",
       "</table>\n",
       "</div>"
      ],
      "text/plain": [
       "   Unnamed: 0   Report_No Reported_Date IBRS Race Sex   Age\n",
       "0           0  KC20000075      1/1/2020  13A    W   F  22.0\n",
       "1           1  KC20000125      1/1/2020  120    B   M  18.0\n",
       "2           2  KC20000158      1/1/2020  13A    B   M   NaN\n",
       "3           3  KC20000242      1/1/2020  120    B   M   NaN\n",
       "4           4  KC20000268      1/2/2020  NaN    W   F  67.0"
      ]
     },
     "execution_count": 3,
     "metadata": {},
     "output_type": "execute_result"
    }
   ],
   "source": [
    "# Read the data from AWS/Google Cloud\n",
    "full_data = pd.read_csv('data/final_crime.csv')\n",
    "data_14 = pd.read_csv('data/2014_crime.csv')\n",
    "data_15 = pd.read_csv('data/2015_crime.csv')\n",
    "data_16 = pd.read_csv('data/2016_crime.csv')\n",
    "data_17 = pd.read_csv('data/2017_crime.csv')\n",
    "data_18 = pd.read_csv('data/2018_crime.csv')\n",
    "data_19 = pd.read_csv('data/2019_crime.csv')\n",
    "data_20 = pd.read_csv('data/2020_crime.csv')\n",
    "data_20.head()"
   ]
  },
  {
   "cell_type": "code",
   "execution_count": 4,
   "metadata": {},
   "outputs": [
    {
     "data": {
      "text/html": [
       "<div>\n",
       "<style scoped>\n",
       "    .dataframe tbody tr th:only-of-type {\n",
       "        vertical-align: middle;\n",
       "    }\n",
       "\n",
       "    .dataframe tbody tr th {\n",
       "        vertical-align: top;\n",
       "    }\n",
       "\n",
       "    .dataframe thead th {\n",
       "        text-align: right;\n",
       "    }\n",
       "</style>\n",
       "<table border=\"1\" class=\"dataframe\">\n",
       "  <thead>\n",
       "    <tr style=\"text-align: right;\">\n",
       "      <th></th>\n",
       "      <th>year</th>\n",
       "      <th>crime_total</th>\n",
       "    </tr>\n",
       "  </thead>\n",
       "  <tbody>\n",
       "    <tr>\n",
       "      <th>0</th>\n",
       "      <td>2014</td>\n",
       "      <td>124832.0</td>\n",
       "    </tr>\n",
       "    <tr>\n",
       "      <th>1</th>\n",
       "      <td>2015</td>\n",
       "      <td>121901.0</td>\n",
       "    </tr>\n",
       "    <tr>\n",
       "      <th>2</th>\n",
       "      <td>2016</td>\n",
       "      <td>127877.0</td>\n",
       "    </tr>\n",
       "    <tr>\n",
       "      <th>3</th>\n",
       "      <td>2017</td>\n",
       "      <td>132139.0</td>\n",
       "    </tr>\n",
       "    <tr>\n",
       "      <th>4</th>\n",
       "      <td>2018</td>\n",
       "      <td>128938.0</td>\n",
       "    </tr>\n",
       "    <tr>\n",
       "      <th>5</th>\n",
       "      <td>2019</td>\n",
       "      <td>78046.0</td>\n",
       "    </tr>\n",
       "    <tr>\n",
       "      <th>6</th>\n",
       "      <td>2020</td>\n",
       "      <td>89597.5</td>\n",
       "    </tr>\n",
       "  </tbody>\n",
       "</table>\n",
       "</div>"
      ],
      "text/plain": [
       "   year  crime_total\n",
       "0  2014     124832.0\n",
       "1  2015     121901.0\n",
       "2  2016     127877.0\n",
       "3  2017     132139.0\n",
       "4  2018     128938.0\n",
       "5  2019      78046.0\n",
       "6  2020      89597.5"
      ]
     },
     "execution_count": 4,
     "metadata": {},
     "output_type": "execute_result"
    }
   ],
   "source": [
    "# Count and store number of reports per year based on rows in CSV files\n",
    "index14=data_14[\"Report_No\"]\n",
    "amount14=len(index14)\n",
    "\n",
    "index15=data_15[\"Report_No\"]\n",
    "amount15=len(index15)\n",
    "\n",
    "index16=data_16[\"Report_No\"]\n",
    "amount16=len(index16)\n",
    "\n",
    "index17=data_17[\"Report_No\"]\n",
    "amount17=len(index17)\n",
    "\n",
    "index18=data_18[\"Report_No\"]\n",
    "amount18=len(index18)\n",
    "\n",
    "index19=data_19[\"Report_No\"]\n",
    "amount19=len(index19)\n",
    "\n",
    "# Add 25% to 2020 in order to accomodate for the remaining three months of the year\n",
    "index20=data_20[\"Report_No\"]\n",
    "amount2=len(index20)\n",
    "amount20=amount2*1.25\n",
    "\n",
    "# Store all amounts in a single list\n",
    "yearly_crime_df = pd.DataFrame({'year': [2014,2015,2016,2017,2018,2019,2020], \n",
    "                                'crime_total': [amount14, amount15, amount16, amount17, amount18, amount19, amount20]})\n",
    "\n",
    "yearly_crime_df.head(7)"
   ]
  },
  {
   "cell_type": "code",
   "execution_count": 5,
   "metadata": {},
   "outputs": [
    {
     "name": "stdout",
     "output_type": "stream",
     "text": [
      "(7, 1) (7, 1)\n"
     ]
    }
   ],
   "source": [
    "# Assign X and Y\n",
    "Xc = yearly_crime_df['year'].values.reshape(-1, 1)\n",
    "yc = yearly_crime_df['crime_total'].values.reshape(-1, 1)\n",
    "print(Xc.shape, yc.shape)"
   ]
  },
  {
   "cell_type": "code",
   "execution_count": 6,
   "metadata": {},
   "outputs": [
    {
     "data": {
      "text/plain": [
       "<matplotlib.collections.PathCollection at 0x2bb29909b48>"
      ]
     },
     "execution_count": 6,
     "metadata": {},
     "output_type": "execute_result"
    },
    {
     "data": {
      "image/png": "[encoded data removed]",
      "text/plain": [
       "<Figure size 432x288 with 1 Axes>"
      ]
     },
     "metadata": {
      "needs_background": "light"
     },
     "output_type": "display_data"
    }
   ],
   "source": [
    "plt.scatter(Xc, yc)"
   ]
  },
  {
   "cell_type": "markdown",
   "metadata": {},
   "source": [
    "## Total Crime Linear Regression\n"
   ]
  },
  {
   "cell_type": "code",
   "execution_count": 7,
   "metadata": {},
   "outputs": [],
   "source": [
    "# Split the data into train and test\n",
    "Xc_train, Xc_test, yc_train, yc_test = train_test_split(Xc, yc, random_state=10)"
   ]
  },
  {
   "cell_type": "code",
   "execution_count": 8,
   "metadata": {},
   "outputs": [
    {
     "data": {
      "text/plain": [
       "LinearRegression(copy_X=True, fit_intercept=True, n_jobs=None, normalize=False)"
      ]
     },
     "execution_count": 8,
     "metadata": {},
     "output_type": "execute_result"
    }
   ],
   "source": [
    "# Create a LinearRegression model and fit it to the scaled training data\n",
    "crime_model = LinearRegression()\n",
    "crime_model.fit(Xc_train, yc_train)"
   ]
  },
  {
   "cell_type": "code",
   "execution_count": 9,
   "metadata": {},
   "outputs": [
    {
     "name": "stdout",
     "output_type": "stream",
     "text": [
      "Weight coefficients:  [[-5751.48837209]]\n",
      "y-axis intercept:  [11715622.65116279]\n"
     ]
    }
   ],
   "source": [
    "# Print the coefficient and the intercept for the model\n",
    "print('Weight coefficients: ', crime_model.coef_)\n",
    "print('y-axis intercept: ', crime_model.intercept_)"
   ]
  },
  {
   "cell_type": "code",
   "execution_count": 10,
   "metadata": {},
   "outputs": [],
   "source": [
    "# Calculate the y_min and y_max using model.predict and x_min and x_max\n",
    "xc_min = np.array([[Xc.min()]])\n",
    "xc_max = np.array([[Xc.max()]])\n",
    "yc_min = crime_model.predict(xc_min)\n",
    "yc_max = crime_model.predict(xc_max)"
   ]
  },
  {
   "cell_type": "code",
   "execution_count": 11,
   "metadata": {},
   "outputs": [
    {
     "data": {
      "image/png": "[encoded data removed]",
      "text/plain": [
       "<Figure size 432x288 with 1 Axes>"
      ]
     },
     "metadata": {
      "needs_background": "light"
     },
     "output_type": "display_data"
    }
   ],
   "source": [
    "labels=[2014,2015,2016,2017,2018,2019,2020,2021,2022,2023]\n",
    "\n",
    "plt.scatter(Xc, yc)\n",
    "plt.plot([xc_min[0], xc_max[0]], [yc_min[0], yc_max[0]], c='m')\n",
    "plt.ylim(0,140000)\n",
    "plt.xlim(2013.5,2023.5)\n",
    "plt.xticks(labels, rotation =50) \n",
    "plt.title('Total Reported Crimes per Year')\n",
    "plt.ylabel('KCPD Reports')\n",
    "plt.tight_layout()\n",
    "plt.savefig('outputs/TC_linear')"
   ]
  },
  {
   "cell_type": "code",
   "execution_count": 12,
   "metadata": {
    "scrolled": true
   },
   "outputs": [
    {
     "name": "stdout",
     "output_type": "stream",
     "text": [
      "MSE: 58466127.615802765, R2: 0.8404003963152358\n"
     ]
    }
   ],
   "source": [
    "# Used X_test_scaled, y_test_scaled, and model.predict(X_test_scaled) to calculate MSE and R2\n",
    "crime_predictions = crime_model.predict(Xc_test)\n",
    "crime_MSE = mean_squared_error(yc_test, crime_predictions)\n",
    "crime_r2 = crime_model.score(Xc_test, yc_test)\n",
    "\n",
    "print(f\"MSE: {crime_MSE}, R2: {crime_r2}\")"
   ]
  },
  {
   "cell_type": "code",
   "execution_count": 13,
   "metadata": {},
   "outputs": [],
   "source": [
    "pred21=crime_model.predict([[2021]])\n",
    "pred22=crime_model.predict([[2022]])\n",
    "pred23=crime_model.predict([[2021]])\n",
    "pred2021=pred21[0][0]\n",
    "pred2022=pred22[0][0]\n",
    "pred2023=pred23[0][0]"
   ]
  },
  {
   "cell_type": "code",
   "execution_count": 14,
   "metadata": {},
   "outputs": [
    {
     "data": {
      "text/html": [
       "<div>\n",
       "<style scoped>\n",
       "    .dataframe tbody tr th:only-of-type {\n",
       "        vertical-align: middle;\n",
       "    }\n",
       "\n",
       "    .dataframe tbody tr th {\n",
       "        vertical-align: top;\n",
       "    }\n",
       "\n",
       "    .dataframe thead th {\n",
       "        text-align: right;\n",
       "    }\n",
       "</style>\n",
       "<table border=\"1\" class=\"dataframe\">\n",
       "  <thead>\n",
       "    <tr style=\"text-align: right;\">\n",
       "      <th></th>\n",
       "      <th>year</th>\n",
       "      <th>crime_total</th>\n",
       "    </tr>\n",
       "  </thead>\n",
       "  <tbody>\n",
       "    <tr>\n",
       "      <th>0</th>\n",
       "      <td>2014</td>\n",
       "      <td>124832.0</td>\n",
       "    </tr>\n",
       "    <tr>\n",
       "      <th>1</th>\n",
       "      <td>2015</td>\n",
       "      <td>121901.0</td>\n",
       "    </tr>\n",
       "    <tr>\n",
       "      <th>2</th>\n",
       "      <td>2016</td>\n",
       "      <td>127877.0</td>\n",
       "    </tr>\n",
       "    <tr>\n",
       "      <th>3</th>\n",
       "      <td>2017</td>\n",
       "      <td>132139.0</td>\n",
       "    </tr>\n",
       "    <tr>\n",
       "      <th>4</th>\n",
       "      <td>2018</td>\n",
       "      <td>128938.0</td>\n",
       "    </tr>\n",
       "    <tr>\n",
       "      <th>5</th>\n",
       "      <td>2019</td>\n",
       "      <td>78046.0</td>\n",
       "    </tr>\n",
       "    <tr>\n",
       "      <th>6</th>\n",
       "      <td>2020</td>\n",
       "      <td>89598.0</td>\n",
       "    </tr>\n",
       "    <tr>\n",
       "      <th>0</th>\n",
       "      <td>2021</td>\n",
       "      <td>91865.0</td>\n",
       "    </tr>\n",
       "    <tr>\n",
       "      <th>1</th>\n",
       "      <td>2022</td>\n",
       "      <td>86113.0</td>\n",
       "    </tr>\n",
       "    <tr>\n",
       "      <th>2</th>\n",
       "      <td>2023</td>\n",
       "      <td>91865.0</td>\n",
       "    </tr>\n",
       "  </tbody>\n",
       "</table>\n",
       "</div>"
      ],
      "text/plain": [
       "   year  crime_total\n",
       "0  2014     124832.0\n",
       "1  2015     121901.0\n",
       "2  2016     127877.0\n",
       "3  2017     132139.0\n",
       "4  2018     128938.0\n",
       "5  2019      78046.0\n",
       "6  2020      89598.0\n",
       "0  2021      91865.0\n",
       "1  2022      86113.0\n",
       "2  2023      91865.0"
      ]
     },
     "execution_count": 14,
     "metadata": {},
     "output_type": "execute_result"
    }
   ],
   "source": [
    "df1 = pd.DataFrame([[2021, pred2021], [2022, pred2022], [2023, pred2023]], columns=['year','crime_total'])\n",
    "pred_crime_df=yearly_crime_df.append(df1).round()\n",
    "pred_crime_df"
   ]
  },
  {
   "cell_type": "code",
   "execution_count": 15,
   "metadata": {},
   "outputs": [],
   "source": [
    "x=pred_crime_df['year']\n",
    "y=pred_crime_df['crime_total']"
   ]
  },
  {
   "cell_type": "code",
   "execution_count": 37,
   "metadata": {},
   "outputs": [
    {
     "data": {
      "image/png": "[encoded data removed]",
      "text/plain": [
       "<Figure size 432x288 with 1 Axes>"
      ]
     },
     "metadata": {
      "needs_background": "light"
     },
     "output_type": "display_data"
    }
   ],
   "source": [
    "mc, bc = np.polyfit(x, y, 1)\n",
    "\n",
    "predCrime = pred_crime_df.plot.scatter(x='year', y='crime_total', s=40)\n",
    "plt.plot(x,mc*x+bc,c='purple')\n",
    "plt.ylim(0,140000)\n",
    "plt.xlim(2013.5,2023.5)\n",
    "plt.xticks(labels, rotation =50) \n",
    "plt.title('Predictive Total Reported Crimes per Year')\n",
    "plt.ylabel('KCPD Reports')\n",
    "plt.tight_layout()\n",
    "plt.savefig('outputs/predC_linear')"
   ]
  },
  {
   "cell_type": "markdown",
   "metadata": {},
   "source": [
    "# Total Homicide Linear Regression"
   ]
  },
  {
   "cell_type": "code",
   "execution_count": 22,
   "metadata": {},
   "outputs": [
    {
     "data": {
      "text/html": [
       "<div>\n",
       "<style scoped>\n",
       "    .dataframe tbody tr th:only-of-type {\n",
       "        vertical-align: middle;\n",
       "    }\n",
       "\n",
       "    .dataframe tbody tr th {\n",
       "        vertical-align: top;\n",
       "    }\n",
       "\n",
       "    .dataframe thead th {\n",
       "        text-align: right;\n",
       "    }\n",
       "</style>\n",
       "<table border=\"1\" class=\"dataframe\">\n",
       "  <thead>\n",
       "    <tr style=\"text-align: right;\">\n",
       "      <th></th>\n",
       "      <th>year</th>\n",
       "      <th>murder_total</th>\n",
       "    </tr>\n",
       "  </thead>\n",
       "  <tbody>\n",
       "    <tr>\n",
       "      <th>0</th>\n",
       "      <td>2014</td>\n",
       "      <td>155</td>\n",
       "    </tr>\n",
       "    <tr>\n",
       "      <th>1</th>\n",
       "      <td>2015</td>\n",
       "      <td>205</td>\n",
       "    </tr>\n",
       "    <tr>\n",
       "      <th>2</th>\n",
       "      <td>2016</td>\n",
       "      <td>251</td>\n",
       "    </tr>\n",
       "    <tr>\n",
       "      <th>3</th>\n",
       "      <td>2017</td>\n",
       "      <td>267</td>\n",
       "    </tr>\n",
       "    <tr>\n",
       "      <th>4</th>\n",
       "      <td>2018</td>\n",
       "      <td>299</td>\n",
       "    </tr>\n",
       "    <tr>\n",
       "      <th>5</th>\n",
       "      <td>2019</td>\n",
       "      <td>264</td>\n",
       "    </tr>\n",
       "    <tr>\n",
       "      <th>6</th>\n",
       "      <td>2020</td>\n",
       "      <td>377</td>\n",
       "    </tr>\n",
       "  </tbody>\n",
       "</table>\n",
       "</div>"
      ],
      "text/plain": [
       "   year  murder_total\n",
       "0  2014           155\n",
       "1  2015           205\n",
       "2  2016           251\n",
       "3  2017           267\n",
       "4  2018           299\n",
       "5  2019           264\n",
       "6  2020           377"
      ]
     },
     "execution_count": 22,
     "metadata": {},
     "output_type": "execute_result"
    }
   ],
   "source": [
    "ibrs2014 = data_14[(data_14[\"IBRS\"] ==\"09A\") | (data_14[\"IBRS\"] ==\"09B\")]\n",
    "ibrs14=ibrs2014[\"IBRS\"]\n",
    "murders14=len(ibrs14)\n",
    "\n",
    "ibrs2015 = data_15[(data_15[\"IBRS\"] ==\"09A\") | (data_15[\"IBRS\"] ==\"09B\")]\n",
    "ibrs15=ibrs2015[\"IBRS\"]\n",
    "murders15=len(ibrs15)\n",
    "\n",
    "ibrs2016 = data_16[(data_16[\"IBRS\"] ==\"09A\") | (data_16[\"IBRS\"] ==\"09B\")]\n",
    "ibrs16=ibrs2016[\"IBRS\"]\n",
    "murders16=len(ibrs16)\n",
    "\n",
    "ibrs2017 = data_17[(data_17[\"IBRS\"] ==\"09A\") | (data_17[\"IBRS\"] ==\"09B\")]\n",
    "ibrs17=ibrs2017[\"IBRS\"]\n",
    "murders17=len(ibrs17)\n",
    "\n",
    "ibrs2018 = data_18[(data_18[\"IBRS\"] ==\"09A\") | (data_18[\"IBRS\"] ==\"09B\")]\n",
    "ibrs18=ibrs2018[\"IBRS\"]\n",
    "murders18=len(ibrs18)\n",
    "\n",
    "ibrs2019 = data_19[(data_19[\"IBRS\"] ==\"09A\") | (data_19[\"IBRS\"] ==\"09B\")]\n",
    "ibrs19=ibrs2019[\"IBRS\"]\n",
    "murders19=len(ibrs19)\n",
    "\n",
    "ibrs2020 = data_20[(data_20[\"IBRS\"] ==\"09A\") | (data_20[\"IBRS\"] ==\"09B\")]\n",
    "ibrs20=ibrs2020[\"IBRS\"]\n",
    "murders20=len(ibrs20)\n",
    "\n",
    "# Store all amounts in a single list\n",
    "yearly_murder_df = pd.DataFrame({'year': [2014,2015,2016,2017,2018,2019,2020], \n",
    "                                'murder_total': [murders14, murders15, murders16, murders17, murders18, murders19, murders20]})\n",
    "\n",
    "yearly_murder_df.head(7)"
   ]
  },
  {
   "cell_type": "code",
   "execution_count": 23,
   "metadata": {},
   "outputs": [
    {
     "name": "stdout",
     "output_type": "stream",
     "text": [
      "(7, 1) (7, 1)\n"
     ]
    }
   ],
   "source": [
    "# Assign X and Y\n",
    "Xm = yearly_murder_df['year'].values.reshape(-1, 1)\n",
    "ym = yearly_murder_df['murder_total'].values.reshape(-1, 1)\n",
    "print(Xm.shape, ym.shape)"
   ]
  },
  {
   "cell_type": "code",
   "execution_count": 24,
   "metadata": {},
   "outputs": [
    {
     "data": {
      "text/plain": [
       "<matplotlib.collections.PathCollection at 0x2bb2a5b2208>"
      ]
     },
     "execution_count": 24,
     "metadata": {},
     "output_type": "execute_result"
    },
    {
     "data": {
      "image/png": "[encoded data removed]",
      "text/plain": [
       "<Figure size 432x288 with 1 Axes>"
      ]
     },
     "metadata": {
      "needs_background": "light"
     },
     "output_type": "display_data"
    }
   ],
   "source": [
    "plt.scatter(Xm, ym)"
   ]
  },
  {
   "cell_type": "code",
   "execution_count": 25,
   "metadata": {},
   "outputs": [],
   "source": [
    "# Split the data into train and test\n",
    "Xm_train, Xm_test, ym_train, ym_test = train_test_split(Xm, ym, random_state=10)"
   ]
  },
  {
   "cell_type": "code",
   "execution_count": 26,
   "metadata": {},
   "outputs": [
    {
     "data": {
      "text/plain": [
       "LinearRegression(copy_X=True, fit_intercept=True, n_jobs=None, normalize=False)"
      ]
     },
     "execution_count": 26,
     "metadata": {},
     "output_type": "execute_result"
    }
   ],
   "source": [
    "# Create a LinearRegression model and fit it to the scaled training data\n",
    "murder_model = LinearRegression()\n",
    "murder_model.fit(Xm_train, ym_train)"
   ]
  },
  {
   "cell_type": "code",
   "execution_count": 27,
   "metadata": {},
   "outputs": [
    {
     "name": "stdout",
     "output_type": "stream",
     "text": [
      "Weight coefficients:  [[24.88372093]]\n",
      "y-axis intercept:  [-49942.51162791]\n"
     ]
    }
   ],
   "source": [
    "# Print the coefficient and the intercept for the model\n",
    "print('Weight coefficients: ', murder_model.coef_)\n",
    "print('y-axis intercept: ', murder_model.intercept_)"
   ]
  },
  {
   "cell_type": "code",
   "execution_count": 28,
   "metadata": {},
   "outputs": [],
   "source": [
    "# Calculate the y_min and y_max using model.predict and x_min and x_max\n",
    "xm_min = np.array([[Xm.min()]])\n",
    "xm_max = np.array([[Xm.max()]])\n",
    "ym_min = murder_model.predict(xm_min)\n",
    "ym_max = murder_model.predict(xm_max)"
   ]
  },
  {
   "cell_type": "code",
   "execution_count": 29,
   "metadata": {},
   "outputs": [
    {
     "data": {
      "image/png": "[encoded data removed]",
      "text/plain": [
       "<Figure size 432x288 with 1 Axes>"
      ]
     },
     "metadata": {
      "needs_background": "light"
     },
     "output_type": "display_data"
    }
   ],
   "source": [
    "plt.scatter(Xm, ym)\n",
    "plt.plot([xm_min[0], xm_max[0]], [ym_min[0], ym_max[0]], c='m')\n",
    "plt.ylim(0,500)\n",
    "plt.xlim(2013.5,2023.5)\n",
    "plt.title('Total KC Homicides per Year')\n",
    "plt.xticks(labels, rotation =50) \n",
    "plt.ylabel('Homidice Police Reports')\n",
    "plt.tight_layout()\n",
    "plt.savefig('outputs/TM_linear')"
   ]
  },
  {
   "cell_type": "code",
   "execution_count": 30,
   "metadata": {},
   "outputs": [
    {
     "name": "stdout",
     "output_type": "stream",
     "text": [
      "MSE: 1869.4759329365002, R2: 0.5289806165440917\n"
     ]
    }
   ],
   "source": [
    "# Used X_test_scaled, y_test_scaled, and model.predict(X_test_scaled) to calculate MSE and R2\n",
    "murder_predictions = murder_model.predict(Xm_test)\n",
    "murder_MSE = mean_squared_error(ym_test, murder_predictions)\n",
    "murder_r2 = murder_model.score(Xm_test, ym_test)\n",
    "\n",
    "print(f\"MSE: {murder_MSE}, R2: {murder_r2}\")"
   ]
  },
  {
   "cell_type": "code",
   "execution_count": 31,
   "metadata": {},
   "outputs": [],
   "source": [
    "mpred21=murder_model.predict([[2021]])\n",
    "mpred22=murder_model.predict([[2022]])\n",
    "mpred23=murder_model.predict([[2021]])\n",
    "mpred2021=mpred21[0][0]\n",
    "mpred2022=mpred22[0][0]\n",
    "mpred2023=mpred23[0][0]"
   ]
  },
  {
   "cell_type": "code",
   "execution_count": 32,
   "metadata": {},
   "outputs": [
    {
     "data": {
      "text/html": [
       "<div>\n",
       "<style scoped>\n",
       "    .dataframe tbody tr th:only-of-type {\n",
       "        vertical-align: middle;\n",
       "    }\n",
       "\n",
       "    .dataframe tbody tr th {\n",
       "        vertical-align: top;\n",
       "    }\n",
       "\n",
       "    .dataframe thead th {\n",
       "        text-align: right;\n",
       "    }\n",
       "</style>\n",
       "<table border=\"1\" class=\"dataframe\">\n",
       "  <thead>\n",
       "    <tr style=\"text-align: right;\">\n",
       "      <th></th>\n",
       "      <th>year</th>\n",
       "      <th>murder_total</th>\n",
       "    </tr>\n",
       "  </thead>\n",
       "  <tbody>\n",
       "    <tr>\n",
       "      <th>0</th>\n",
       "      <td>2014</td>\n",
       "      <td>155.0</td>\n",
       "    </tr>\n",
       "    <tr>\n",
       "      <th>1</th>\n",
       "      <td>2015</td>\n",
       "      <td>205.0</td>\n",
       "    </tr>\n",
       "    <tr>\n",
       "      <th>2</th>\n",
       "      <td>2016</td>\n",
       "      <td>251.0</td>\n",
       "    </tr>\n",
       "    <tr>\n",
       "      <th>3</th>\n",
       "      <td>2017</td>\n",
       "      <td>267.0</td>\n",
       "    </tr>\n",
       "    <tr>\n",
       "      <th>4</th>\n",
       "      <td>2018</td>\n",
       "      <td>299.0</td>\n",
       "    </tr>\n",
       "    <tr>\n",
       "      <th>5</th>\n",
       "      <td>2019</td>\n",
       "      <td>264.0</td>\n",
       "    </tr>\n",
       "    <tr>\n",
       "      <th>6</th>\n",
       "      <td>2020</td>\n",
       "      <td>377.0</td>\n",
       "    </tr>\n",
       "    <tr>\n",
       "      <th>0</th>\n",
       "      <td>2021</td>\n",
       "      <td>347.0</td>\n",
       "    </tr>\n",
       "    <tr>\n",
       "      <th>1</th>\n",
       "      <td>2022</td>\n",
       "      <td>372.0</td>\n",
       "    </tr>\n",
       "    <tr>\n",
       "      <th>2</th>\n",
       "      <td>2023</td>\n",
       "      <td>347.0</td>\n",
       "    </tr>\n",
       "  </tbody>\n",
       "</table>\n",
       "</div>"
      ],
      "text/plain": [
       "   year  murder_total\n",
       "0  2014         155.0\n",
       "1  2015         205.0\n",
       "2  2016         251.0\n",
       "3  2017         267.0\n",
       "4  2018         299.0\n",
       "5  2019         264.0\n",
       "6  2020         377.0\n",
       "0  2021         347.0\n",
       "1  2022         372.0\n",
       "2  2023         347.0"
      ]
     },
     "execution_count": 32,
     "metadata": {},
     "output_type": "execute_result"
    }
   ],
   "source": [
    "df2 = pd.DataFrame([[2021, mpred2021], [2022, mpred2022], [2023, mpred2023]], columns=['year','murder_total'])\n",
    "pred_murder_df=yearly_murder_df.append(df2).round()\n",
    "pred_murder_df"
   ]
  },
  {
   "cell_type": "code",
   "execution_count": 33,
   "metadata": {},
   "outputs": [],
   "source": [
    "pred_murder_df.to_csv(\"outputs/pred_murder_linear.csv\")\n",
    "pred_crime_df.to_csv(\"outputs/pred_crime_linear.csv\")"
   ]
  },
  {
   "cell_type": "code",
   "execution_count": 34,
   "metadata": {},
   "outputs": [],
   "source": [
    "xx=pred_murder_df['year']\n",
    "yy=pred_murder_df['murder_total']"
   ]
  },
  {
   "cell_type": "code",
   "execution_count": 36,
   "metadata": {
    "scrolled": true
   },
   "outputs": [
    {
     "data": {
      "image/png": "[encoded data removed]",
      "text/plain": [
       "<Figure size 432x288 with 1 Axes>"
      ]
     },
     "metadata": {
      "needs_background": "light"
     },
     "output_type": "display_data"
    }
   ],
   "source": [
    "m, b = np.polyfit(xx, yy, 1)\n",
    "\n",
    "predMurder = pred_murder_df.plot.scatter(x='year', y='murder_total', s=40)\n",
    "plt.plot(xx,m*xx+b,c='purple')\n",
    "plt.ylim(0,500)\n",
    "plt.xlim(2013.5,2023.5)\n",
    "plt.xticks(labels, rotation =50) \n",
    "plt.title('Predictive Total KC Homicides per Year')\n",
    "plt.ylabel('Homidice Police Reports')\n",
    "plt.tight_layout()\n",
    "plt.savefig('outputs/predM_linear')"
   ]
  },
  {
   "cell_type": "code",
   "execution_count": null,
   "metadata": {},
   "outputs": [],
   "source": []
  }
 ],
 "metadata": {
  "kernelspec": {
   "display_name": "Python 3",
   "language": "python",
   "name": "python3"
  },
  "language_info": {
   "codemirror_mode": {
    "name": "ipython",
    "version": 3
   },
   "file_extension": ".py",
   "mimetype": "text/x-python",
   "name": "python",
   "nbconvert_exporter": "python",
   "pygments_lexer": "ipython3",
   "version": "3.7.6"
  }
 },
 "nbformat": 4,
 "nbformat_minor": 4
}
