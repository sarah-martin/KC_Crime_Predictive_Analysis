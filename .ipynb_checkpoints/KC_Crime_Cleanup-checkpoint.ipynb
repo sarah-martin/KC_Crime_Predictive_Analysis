{
 "cells": [
  {
   "cell_type": "markdown",
   "metadata": {},
   "source": [
    "## 2014-2020 Kansas City Crime Cleaning"
   ]
  },
  {
   "cell_type": "code",
   "execution_count": 2,
   "metadata": {},
   "outputs": [],
   "source": [
    "import pandas as pd"
   ]
  },
  {
   "cell_type": "markdown",
   "metadata": {},
   "source": [
    "### Data Cleanup "
   ]
  },
  {
   "cell_type": "code",
   "execution_count": 3,
   "metadata": {},
   "outputs": [
    {
     "name": "stderr",
     "output_type": "stream",
     "text": [
      "C:\\Users\\smm11\\anaconda3\\lib\\site-packages\\IPython\\core\\interactiveshell.py:3063: DtypeWarning: Columns (10) have mixed types.Specify dtype option on import or set low_memory=False.\n",
      "  interactivity=interactivity, compiler=compiler, result=result)\n"
     ]
    },
    {
     "data": {
      "text/html": [
       "<div>\n",
       "<style scoped>\n",
       "    .dataframe tbody tr th:only-of-type {\n",
       "        vertical-align: middle;\n",
       "    }\n",
       "\n",
       "    .dataframe tbody tr th {\n",
       "        vertical-align: top;\n",
       "    }\n",
       "\n",
       "    .dataframe thead th {\n",
       "        text-align: right;\n",
       "    }\n",
       "</style>\n",
       "<table border=\"1\" class=\"dataframe\">\n",
       "  <thead>\n",
       "    <tr style=\"text-align: right;\">\n",
       "      <th></th>\n",
       "      <th>Report_No</th>\n",
       "      <th>Reported_Date</th>\n",
       "      <th>IBRS</th>\n",
       "      <th>Race</th>\n",
       "      <th>Sex</th>\n",
       "      <th>Age</th>\n",
       "    </tr>\n",
       "  </thead>\n",
       "  <tbody>\n",
       "    <tr>\n",
       "      <th>0</th>\n",
       "      <td>KC20000075</td>\n",
       "      <td>1/1/2020</td>\n",
       "      <td>13A</td>\n",
       "      <td>W</td>\n",
       "      <td>F</td>\n",
       "      <td>22.0</td>\n",
       "    </tr>\n",
       "    <tr>\n",
       "      <th>1</th>\n",
       "      <td>KC20000125</td>\n",
       "      <td>1/1/2020</td>\n",
       "      <td>120</td>\n",
       "      <td>B</td>\n",
       "      <td>M</td>\n",
       "      <td>18.0</td>\n",
       "    </tr>\n",
       "    <tr>\n",
       "      <th>2</th>\n",
       "      <td>KC20000158</td>\n",
       "      <td>1/1/2020</td>\n",
       "      <td>13A</td>\n",
       "      <td>B</td>\n",
       "      <td>M</td>\n",
       "      <td>NaN</td>\n",
       "    </tr>\n",
       "    <tr>\n",
       "      <th>3</th>\n",
       "      <td>KC20000242</td>\n",
       "      <td>1/1/2020</td>\n",
       "      <td>120</td>\n",
       "      <td>B</td>\n",
       "      <td>M</td>\n",
       "      <td>NaN</td>\n",
       "    </tr>\n",
       "    <tr>\n",
       "      <th>4</th>\n",
       "      <td>KC20000268</td>\n",
       "      <td>1/2/2020</td>\n",
       "      <td>NaN</td>\n",
       "      <td>W</td>\n",
       "      <td>F</td>\n",
       "      <td>67.0</td>\n",
       "    </tr>\n",
       "  </tbody>\n",
       "</table>\n",
       "</div>"
      ],
      "text/plain": [
       "    Report_No Reported_Date IBRS Race Sex   Age\n",
       "0  KC20000075      1/1/2020  13A    W   F  22.0\n",
       "1  KC20000125      1/1/2020  120    B   M  18.0\n",
       "2  KC20000158      1/1/2020  13A    B   M   NaN\n",
       "3  KC20000242      1/1/2020  120    B   M   NaN\n",
       "4  KC20000268      1/2/2020  NaN    W   F  67.0"
      ]
     },
     "execution_count": 3,
     "metadata": {},
     "output_type": "execute_result"
    }
   ],
   "source": [
    "# Import and read crime CSV files from data.kcmo.org\n",
    "crime_2014=\"data/original_Crime/KCPD_Crime_Data_2014.csv\"\n",
    "crime_2015=\"data/original_Crime/KCPD_Crime_Data_2015.csv\"\n",
    "crime_2016=\"data/original_Crime/KCPD_Crime_Data_2016.csv\"\n",
    "crime_2017=\"data/original_Crime/KCPD_Crime_Data_2017.csv\"\n",
    "crime_2018=\"data/original_Crime/KCPD_Crime_Data_2018.csv\"\n",
    "crime_2019=\"data/original_Crime/KCPD_Crime_Data_2019.csv\"\n",
    "crime_2020=\"data/original_Crime/KCPD_Crime_Data_2020.csv\"\n",
    "\n",
    "crime_2014_df=pd.read_csv(crime_2014)\n",
    "crime_2015_df=pd.read_csv(crime_2015)\n",
    "crime_2016_df=pd.read_csv(crime_2016)\n",
    "crime_2017_df=pd.read_csv(crime_2017)\n",
    "crime_2018_df=pd.read_csv(crime_2018)\n",
    "crime_2019_df=pd.read_csv(crime_2019)\n",
    "crime_2020_df=pd.read_csv(crime_2020)\n",
    "\n",
    "# Clean crime dataframes by specifying columns\n",
    "final_2014_df=crime_2014_df[['Report_No','Reported_Date','IBRS','Race','Sex','Age']]\n",
    "final_2015_df=crime_2015_df[['Report_No','Reported_Date','IBRS','Race','Sex','Age']]\n",
    "final_2016_df=crime_2016_df[['Report_No','Reported_Date','IBRS','Race','Sex','Age']]\n",
    "final_2017_df=crime_2017_df[['Report_No','Reported_Date','IBRS','Race','Sex','Age']]\n",
    "final_2018_df=crime_2018_df[['Report_No','Reported_Date','IBRS','Race','Sex','Age']]\n",
    "final_2019_df=crime_2019_df[['Report_No','Reported_Date','IBRS','Race','Sex','Age']]\n",
    "final_2020_df=crime_2020_df[['Report_No','Reported_Date','IBRS','Race','Sex','Age']]\n",
    "\n",
    "final_2020_df.head()"
   ]
  },
  {
   "cell_type": "code",
   "execution_count": 4,
   "metadata": {
    "scrolled": true
   },
   "outputs": [
    {
     "data": {
      "text/html": [
       "<div>\n",
       "<style scoped>\n",
       "    .dataframe tbody tr th:only-of-type {\n",
       "        vertical-align: middle;\n",
       "    }\n",
       "\n",
       "    .dataframe tbody tr th {\n",
       "        vertical-align: top;\n",
       "    }\n",
       "\n",
       "    .dataframe thead th {\n",
       "        text-align: right;\n",
       "    }\n",
       "</style>\n",
       "<table border=\"1\" class=\"dataframe\">\n",
       "  <thead>\n",
       "    <tr style=\"text-align: right;\">\n",
       "      <th></th>\n",
       "      <th>Report_No</th>\n",
       "      <th>Reported_Date</th>\n",
       "      <th>IBRS</th>\n",
       "      <th>Race</th>\n",
       "      <th>Sex</th>\n",
       "      <th>Age</th>\n",
       "    </tr>\n",
       "  </thead>\n",
       "  <tbody>\n",
       "    <tr>\n",
       "      <th>0</th>\n",
       "      <td>140043299</td>\n",
       "      <td>07/08/2014</td>\n",
       "      <td>120</td>\n",
       "      <td>B</td>\n",
       "      <td>F</td>\n",
       "      <td>17.0</td>\n",
       "    </tr>\n",
       "    <tr>\n",
       "      <th>1</th>\n",
       "      <td>140043299</td>\n",
       "      <td>07/08/2014</td>\n",
       "      <td>120</td>\n",
       "      <td>B</td>\n",
       "      <td>F</td>\n",
       "      <td>18.0</td>\n",
       "    </tr>\n",
       "    <tr>\n",
       "      <th>2</th>\n",
       "      <td>140043299</td>\n",
       "      <td>07/08/2014</td>\n",
       "      <td>120</td>\n",
       "      <td>B</td>\n",
       "      <td>F</td>\n",
       "      <td>18.0</td>\n",
       "    </tr>\n",
       "    <tr>\n",
       "      <th>3</th>\n",
       "      <td>140043299</td>\n",
       "      <td>07/08/2014</td>\n",
       "      <td>120</td>\n",
       "      <td>B</td>\n",
       "      <td>F</td>\n",
       "      <td>19.0</td>\n",
       "    </tr>\n",
       "    <tr>\n",
       "      <th>4</th>\n",
       "      <td>140038847</td>\n",
       "      <td>06/12/2014</td>\n",
       "      <td>220</td>\n",
       "      <td>B</td>\n",
       "      <td>F</td>\n",
       "      <td>20.0</td>\n",
       "    </tr>\n",
       "  </tbody>\n",
       "</table>\n",
       "</div>"
      ],
      "text/plain": [
       "   Report_No Reported_Date IBRS Race Sex   Age\n",
       "0  140043299    07/08/2014  120    B   F  17.0\n",
       "1  140043299    07/08/2014  120    B   F  18.0\n",
       "2  140043299    07/08/2014  120    B   F  18.0\n",
       "3  140043299    07/08/2014  120    B   F  19.0\n",
       "4  140038847    06/12/2014  220    B   F  20.0"
      ]
     },
     "execution_count": 4,
     "metadata": {},
     "output_type": "execute_result"
    }
   ],
   "source": [
    "# Combine all crime dataframes into one dataframe\n",
    "final_crime_df=pd.concat([final_2014_df,final_2015_df,final_2016_df,final_2017_df,final_2018_df,final_2019_df,final_2020_df],sort=False)\n",
    "final_crime_df.to_csv(r\"data\\final_crime.csv\")\n",
    "final_crime_df.head()"
   ]
  },
  {
   "cell_type": "code",
   "execution_count": 5,
   "metadata": {},
   "outputs": [],
   "source": [
    "# Export as csv file\n",
    "final_2014_df.to_csv(r\"data\\2014_crime.csv\")\n",
    "final_2015_df.to_csv(r\"data\\2015_crime.csv\")\n",
    "final_2016_df.to_csv(r\"data\\2016_crime.csv\")\n",
    "final_2017_df.to_csv(r\"data\\2017_crime.csv\")\n",
    "final_2018_df.to_csv(r\"data\\2018_crime.csv\")\n",
    "final_2019_df.to_csv(r\"data\\2019_crime.csv\")\n",
    "final_2020_df.to_csv(r\"data\\2020_crime.csv\")"
   ]
  },
  {
   "cell_type": "code",
   "execution_count": null,
   "metadata": {},
   "outputs": [],
   "source": []
  }
 ],
 "metadata": {
  "kernelspec": {
   "display_name": "Python 3",
   "language": "python",
   "name": "python3"
  },
  "language_info": {
   "codemirror_mode": {
    "name": "ipython",
    "version": 3
   },
   "file_extension": ".py",
   "mimetype": "text/x-python",
   "name": "python",
   "nbconvert_exporter": "python",
   "pygments_lexer": "ipython3",
   "version": "3.7.6"
  }
 },
 "nbformat": 4,
 "nbformat_minor": 4
}
