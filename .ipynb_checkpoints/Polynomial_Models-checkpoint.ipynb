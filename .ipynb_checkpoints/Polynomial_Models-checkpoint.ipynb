{
 "cells": [
  {
   "cell_type": "markdown",
   "metadata": {},
   "source": [
    "# Machine Learning - Polynomial Regressions "
   ]
  },
  {
   "cell_type": "code",
   "execution_count": 45,
   "metadata": {},
   "outputs": [],
   "source": [
    "import numpy as np\n",
    "import matplotlib.pyplot as plt\n",
    "import pandas as pd\n",
    "\n",
    "import operator\n",
    "\n",
    "from sklearn.model_selection import train_test_split\n",
    "from sklearn.linear_model import LinearRegression\n",
    "from sklearn.metrics import mean_squared_error, r2_score\n",
    "from sklearn.preprocessing import PolynomialFeatures"
   ]
  },
  {
   "cell_type": "code",
   "execution_count": 46,
   "metadata": {},
   "outputs": [
    {
     "name": "stderr",
     "output_type": "stream",
     "text": [
      "C:\\Users\\smm11\\anaconda3\\lib\\site-packages\\IPython\\core\\interactiveshell.py:3063: DtypeWarning: Columns (1) have mixed types.Specify dtype option on import or set low_memory=False.\n",
      "  interactivity=interactivity, compiler=compiler, result=result)\n"
     ]
    },
    {
     "data": {
      "text/html": [
       "<div>\n",
       "<style scoped>\n",
       "    .dataframe tbody tr th:only-of-type {\n",
       "        vertical-align: middle;\n",
       "    }\n",
       "\n",
       "    .dataframe tbody tr th {\n",
       "        vertical-align: top;\n",
       "    }\n",
       "\n",
       "    .dataframe thead th {\n",
       "        text-align: right;\n",
       "    }\n",
       "</style>\n",
       "<table border=\"1\" class=\"dataframe\">\n",
       "  <thead>\n",
       "    <tr style=\"text-align: right;\">\n",
       "      <th></th>\n",
       "      <th>Unnamed: 0</th>\n",
       "      <th>Report_No</th>\n",
       "      <th>Reported_Date</th>\n",
       "      <th>IBRS</th>\n",
       "      <th>Race</th>\n",
       "      <th>Sex</th>\n",
       "      <th>Age</th>\n",
       "    </tr>\n",
       "  </thead>\n",
       "  <tbody>\n",
       "    <tr>\n",
       "      <th>0</th>\n",
       "      <td>0</td>\n",
       "      <td>KC20000075</td>\n",
       "      <td>1/1/2020</td>\n",
       "      <td>13A</td>\n",
       "      <td>W</td>\n",
       "      <td>F</td>\n",
       "      <td>22.0</td>\n",
       "    </tr>\n",
       "    <tr>\n",
       "      <th>1</th>\n",
       "      <td>1</td>\n",
       "      <td>KC20000125</td>\n",
       "      <td>1/1/2020</td>\n",
       "      <td>120</td>\n",
       "      <td>B</td>\n",
       "      <td>M</td>\n",
       "      <td>18.0</td>\n",
       "    </tr>\n",
       "    <tr>\n",
       "      <th>2</th>\n",
       "      <td>2</td>\n",
       "      <td>KC20000158</td>\n",
       "      <td>1/1/2020</td>\n",
       "      <td>13A</td>\n",
       "      <td>B</td>\n",
       "      <td>M</td>\n",
       "      <td>NaN</td>\n",
       "    </tr>\n",
       "    <tr>\n",
       "      <th>3</th>\n",
       "      <td>3</td>\n",
       "      <td>KC20000242</td>\n",
       "      <td>1/1/2020</td>\n",
       "      <td>120</td>\n",
       "      <td>B</td>\n",
       "      <td>M</td>\n",
       "      <td>NaN</td>\n",
       "    </tr>\n",
       "    <tr>\n",
       "      <th>4</th>\n",
       "      <td>4</td>\n",
       "      <td>KC20000268</td>\n",
       "      <td>1/2/2020</td>\n",
       "      <td>NaN</td>\n",
       "      <td>W</td>\n",
       "      <td>F</td>\n",
       "      <td>67.0</td>\n",
       "    </tr>\n",
       "  </tbody>\n",
       "</table>\n",
       "</div>"
      ],
      "text/plain": [
       "   Unnamed: 0   Report_No Reported_Date IBRS Race Sex   Age\n",
       "0           0  KC20000075      1/1/2020  13A    W   F  22.0\n",
       "1           1  KC20000125      1/1/2020  120    B   M  18.0\n",
       "2           2  KC20000158      1/1/2020  13A    B   M   NaN\n",
       "3           3  KC20000242      1/1/2020  120    B   M   NaN\n",
       "4           4  KC20000268      1/2/2020  NaN    W   F  67.0"
      ]
     },
     "execution_count": 46,
     "metadata": {},
     "output_type": "execute_result"
    }
   ],
   "source": [
    "# Read the data from AWS/Google Cloud\n",
    "full_data = pd.read_csv('data/final_crime.csv')\n",
    "data_14 = pd.read_csv('data/2014_crime.csv')\n",
    "data_15 = pd.read_csv('data/2015_crime.csv')\n",
    "data_16 = pd.read_csv('data/2016_crime.csv')\n",
    "data_17 = pd.read_csv('data/2017_crime.csv')\n",
    "data_18 = pd.read_csv('data/2018_crime.csv')\n",
    "data_19 = pd.read_csv('data/2019_crime.csv')\n",
    "data_20 = pd.read_csv('data/2020_crime.csv')\n",
    "data_20.head()"
   ]
  },
  {
   "cell_type": "markdown",
   "metadata": {},
   "source": [
    "## Total Crime Polynomial Regression"
   ]
  },
  {
   "cell_type": "code",
   "execution_count": 47,
   "metadata": {},
   "outputs": [
    {
     "data": {
      "text/html": [
       "<div>\n",
       "<style scoped>\n",
       "    .dataframe tbody tr th:only-of-type {\n",
       "        vertical-align: middle;\n",
       "    }\n",
       "\n",
       "    .dataframe tbody tr th {\n",
       "        vertical-align: top;\n",
       "    }\n",
       "\n",
       "    .dataframe thead th {\n",
       "        text-align: right;\n",
       "    }\n",
       "</style>\n",
       "<table border=\"1\" class=\"dataframe\">\n",
       "  <thead>\n",
       "    <tr style=\"text-align: right;\">\n",
       "      <th></th>\n",
       "      <th>year</th>\n",
       "      <th>crime_total</th>\n",
       "    </tr>\n",
       "  </thead>\n",
       "  <tbody>\n",
       "    <tr>\n",
       "      <th>0</th>\n",
       "      <td>2014</td>\n",
       "      <td>124832.0</td>\n",
       "    </tr>\n",
       "    <tr>\n",
       "      <th>1</th>\n",
       "      <td>2015</td>\n",
       "      <td>121901.0</td>\n",
       "    </tr>\n",
       "    <tr>\n",
       "      <th>2</th>\n",
       "      <td>2016</td>\n",
       "      <td>127877.0</td>\n",
       "    </tr>\n",
       "    <tr>\n",
       "      <th>3</th>\n",
       "      <td>2017</td>\n",
       "      <td>132139.0</td>\n",
       "    </tr>\n",
       "    <tr>\n",
       "      <th>4</th>\n",
       "      <td>2018</td>\n",
       "      <td>128938.0</td>\n",
       "    </tr>\n",
       "    <tr>\n",
       "      <th>5</th>\n",
       "      <td>2019</td>\n",
       "      <td>78046.0</td>\n",
       "    </tr>\n",
       "    <tr>\n",
       "      <th>6</th>\n",
       "      <td>2020</td>\n",
       "      <td>89597.5</td>\n",
       "    </tr>\n",
       "  </tbody>\n",
       "</table>\n",
       "</div>"
      ],
      "text/plain": [
       "   year  crime_total\n",
       "0  2014     124832.0\n",
       "1  2015     121901.0\n",
       "2  2016     127877.0\n",
       "3  2017     132139.0\n",
       "4  2018     128938.0\n",
       "5  2019      78046.0\n",
       "6  2020      89597.5"
      ]
     },
     "execution_count": 47,
     "metadata": {},
     "output_type": "execute_result"
    }
   ],
   "source": [
    "# Count and store number of reports per year based on rows in CSV files\n",
    "index14=data_14[\"Report_No\"]\n",
    "amount14=len(index14)\n",
    "\n",
    "index15=data_15[\"Report_No\"]\n",
    "amount15=len(index15)\n",
    "\n",
    "index16=data_16[\"Report_No\"]\n",
    "amount16=len(index16)\n",
    "\n",
    "index17=data_17[\"Report_No\"]\n",
    "amount17=len(index17)\n",
    "\n",
    "index18=data_18[\"Report_No\"]\n",
    "amount18=len(index18)\n",
    "\n",
    "index19=data_19[\"Report_No\"]\n",
    "amount19=len(index19)\n",
    "\n",
    "# Add 25% to 2020 in order to accomodate for the remaining three months of the year\n",
    "index20=data_20[\"Report_No\"]\n",
    "amount2=len(index20)\n",
    "amount20=amount2*1.25\n",
    "\n",
    "# Store all amounts in a single list\n",
    "yearly_crime_df = pd.DataFrame({'year': [2014,2015,2016,2017,2018,2019,2020], \n",
    "                                'crime_total': [amount14, amount15, amount16, amount17, amount18, amount19, amount20]})\n",
    "\n",
    "yearly_crime_df.head(7)"
   ]
  },
  {
   "cell_type": "code",
   "execution_count": 48,
   "metadata": {},
   "outputs": [
    {
     "name": "stdout",
     "output_type": "stream",
     "text": [
      "(7, 1) (7, 1)\n"
     ]
    }
   ],
   "source": [
    "# Assign X and Y\n",
    "xc = yearly_crime_df['year'].values.reshape(-1, 1)\n",
    "yc = yearly_crime_df['crime_total'].values.reshape(-1, 1)\n",
    "print(xc.shape, yc.shape)"
   ]
  },
  {
   "cell_type": "code",
   "execution_count": 49,
   "metadata": {},
   "outputs": [],
   "source": [
    "crimePolynomial_features= PolynomialFeatures(degree=2)\n",
    "xc_poly = crimePolynomial_features.fit_transform(xc)"
   ]
  },
  {
   "cell_type": "code",
   "execution_count": 50,
   "metadata": {},
   "outputs": [],
   "source": [
    "# Create a LinearRegression model and fit it to the scaled training data\n",
    "crime_model = LinearRegression()\n",
    "crime_model.fit(xc_poly, yc)\n",
    "yc_poly_pred=crime_model.predict(xc_poly)"
   ]
  },
  {
   "cell_type": "code",
   "execution_count": 72,
   "metadata": {},
   "outputs": [
    {
     "data": {
      "image/png": "[encoded data removed]",
      "text/plain": [
       "<Figure size 432x288 with 1 Axes>"
      ]
     },
     "metadata": {
      "needs_background": "light"
     },
     "output_type": "display_data"
    }
   ],
   "source": [
    "plt.scatter(xc, yc, s=10)\n",
    "\n",
    "# sort the values of x before line plot\n",
    "sort_axis = operator.itemgetter(0)\n",
    "sorted_zip = sorted(zip(xc,yc_poly_pred), key=sort_axis)\n",
    "xc, yc_poly_pred = zip(*sorted_zip)\n",
    "plt.plot(xc, yc_poly_pred, color='m')\n",
    "plt.ylim(0,140000)\n",
    "plt.xlim(2013.5,2023)\n",
    "plt.title('Total Reported Crimes per Year')\n",
    "plt.ylabel('KCPD Reports')\n",
    "plt.show()"
   ]
  },
  {
   "cell_type": "code",
   "execution_count": 52,
   "metadata": {},
   "outputs": [
    {
     "name": "stdout",
     "output_type": "stream",
     "text": [
      "RMSE: 11177.465719238406, R2: 0.6886180679968821\n"
     ]
    }
   ],
   "source": [
    "# Calculate MSE and R2\n",
    "crime_RMSE = np.sqrt(mean_squared_error(yc, yc_poly_pred))\n",
    "crime_r2 = r2_score(yc, yc_poly_pred)\n",
    "\n",
    "print(f\"RMSE: {crime_RMSE}, R2: {crime_r2}\")"
   ]
  },
  {
   "cell_type": "markdown",
   "metadata": {},
   "source": [
    "## Total Homicides Polynomial Regression"
   ]
  },
  {
   "cell_type": "code",
   "execution_count": 53,
   "metadata": {},
   "outputs": [
    {
     "data": {
      "text/html": [
       "<div>\n",
       "<style scoped>\n",
       "    .dataframe tbody tr th:only-of-type {\n",
       "        vertical-align: middle;\n",
       "    }\n",
       "\n",
       "    .dataframe tbody tr th {\n",
       "        vertical-align: top;\n",
       "    }\n",
       "\n",
       "    .dataframe thead th {\n",
       "        text-align: right;\n",
       "    }\n",
       "</style>\n",
       "<table border=\"1\" class=\"dataframe\">\n",
       "  <thead>\n",
       "    <tr style=\"text-align: right;\">\n",
       "      <th></th>\n",
       "      <th>year</th>\n",
       "      <th>murder_total</th>\n",
       "    </tr>\n",
       "  </thead>\n",
       "  <tbody>\n",
       "    <tr>\n",
       "      <th>0</th>\n",
       "      <td>2014</td>\n",
       "      <td>155</td>\n",
       "    </tr>\n",
       "    <tr>\n",
       "      <th>1</th>\n",
       "      <td>2015</td>\n",
       "      <td>205</td>\n",
       "    </tr>\n",
       "    <tr>\n",
       "      <th>2</th>\n",
       "      <td>2016</td>\n",
       "      <td>251</td>\n",
       "    </tr>\n",
       "    <tr>\n",
       "      <th>3</th>\n",
       "      <td>2017</td>\n",
       "      <td>267</td>\n",
       "    </tr>\n",
       "    <tr>\n",
       "      <th>4</th>\n",
       "      <td>2018</td>\n",
       "      <td>299</td>\n",
       "    </tr>\n",
       "    <tr>\n",
       "      <th>5</th>\n",
       "      <td>2019</td>\n",
       "      <td>264</td>\n",
       "    </tr>\n",
       "    <tr>\n",
       "      <th>6</th>\n",
       "      <td>2020</td>\n",
       "      <td>377</td>\n",
       "    </tr>\n",
       "  </tbody>\n",
       "</table>\n",
       "</div>"
      ],
      "text/plain": [
       "   year  murder_total\n",
       "0  2014           155\n",
       "1  2015           205\n",
       "2  2016           251\n",
       "3  2017           267\n",
       "4  2018           299\n",
       "5  2019           264\n",
       "6  2020           377"
      ]
     },
     "execution_count": 53,
     "metadata": {},
     "output_type": "execute_result"
    }
   ],
   "source": [
    "ibrs2014 = data_14[(data_14[\"IBRS\"] ==\"09A\") | (data_14[\"IBRS\"] ==\"09B\")]\n",
    "ibrs14=ibrs2014[\"IBRS\"]\n",
    "murders14=len(ibrs14)\n",
    "\n",
    "ibrs2015 = data_15[(data_15[\"IBRS\"] ==\"09A\") | (data_15[\"IBRS\"] ==\"09B\")]\n",
    "ibrs15=ibrs2015[\"IBRS\"]\n",
    "murders15=len(ibrs15)\n",
    "\n",
    "ibrs2016 = data_16[(data_16[\"IBRS\"] ==\"09A\") | (data_16[\"IBRS\"] ==\"09B\")]\n",
    "ibrs16=ibrs2016[\"IBRS\"]\n",
    "murders16=len(ibrs16)\n",
    "\n",
    "ibrs2017 = data_17[(data_17[\"IBRS\"] ==\"09A\") | (data_17[\"IBRS\"] ==\"09B\")]\n",
    "ibrs17=ibrs2017[\"IBRS\"]\n",
    "murders17=len(ibrs17)\n",
    "\n",
    "ibrs2018 = data_18[(data_18[\"IBRS\"] ==\"09A\") | (data_18[\"IBRS\"] ==\"09B\")]\n",
    "ibrs18=ibrs2018[\"IBRS\"]\n",
    "murders18=len(ibrs18)\n",
    "\n",
    "ibrs2019 = data_19[(data_19[\"IBRS\"] ==\"09A\") | (data_19[\"IBRS\"] ==\"09B\")]\n",
    "ibrs19=ibrs2019[\"IBRS\"]\n",
    "murders19=len(ibrs19)\n",
    "\n",
    "ibrs2020 = data_20[(data_20[\"IBRS\"] ==\"09A\") | (data_20[\"IBRS\"] ==\"09B\")]\n",
    "ibrs20=ibrs2020[\"IBRS\"]\n",
    "murders20=len(ibrs20)\n",
    "\n",
    "# Store all amounts in a single list\n",
    "yearly_murder_df = pd.DataFrame({'year': [2014,2015,2016,2017,2018,2019,2020], \n",
    "                                'murder_total': [murders14, murders15, murders16, murders17, murders18, murders19, murders20]})\n",
    "\n",
    "yearly_murder_df.head(7)"
   ]
  },
  {
   "cell_type": "code",
   "execution_count": 56,
   "metadata": {},
   "outputs": [
    {
     "name": "stdout",
     "output_type": "stream",
     "text": [
      "(7, 1) (7, 1)\n"
     ]
    }
   ],
   "source": [
    "# Assign X and Y\n",
    "xm = yearly_murder_df['year'].values.reshape(-1, 1)\n",
    "ym = yearly_murder_df['murder_total'].values.reshape(-1, 1)\n",
    "print(xm.shape, ym.shape)"
   ]
  },
  {
   "cell_type": "code",
   "execution_count": 57,
   "metadata": {},
   "outputs": [],
   "source": [
    "murderPolynomial_features= PolynomialFeatures(degree=2)\n",
    "xm_poly = polynomial_features.fit_transform(xm)"
   ]
  },
  {
   "cell_type": "code",
   "execution_count": 58,
   "metadata": {},
   "outputs": [],
   "source": [
    "# Create a LinearRegression model and fit it to the scaled training data\n",
    "murder_model = LinearRegression()\n",
    "murder_model.fit(xm_poly, ym)\n",
    "ym_poly_pred=murder_model.predict(xm_poly)"
   ]
  },
  {
   "cell_type": "code",
   "execution_count": 71,
   "metadata": {},
   "outputs": [
    {
     "data": {
      "image/png": "[encoded data removed]",
      "text/plain": [
       "<Figure size 432x288 with 1 Axes>"
      ]
     },
     "metadata": {
      "needs_background": "light"
     },
     "output_type": "display_data"
    }
   ],
   "source": [
    "plt.scatter(xm, ym, s=10)\n",
    "\n",
    "# sort the values of x before line plot\n",
    "sort_murderAxis = operator.itemgetter(0)\n",
    "sorted_murderZip = sorted(zip(xm,ym_poly_pred), key=sort_axis)\n",
    "xm, ym_poly_pred = zip(*sorted_murderZip)\n",
    "plt.plot(xm, ym_poly_pred, color='m')\n",
    "plt.ylim(0,500)\n",
    "plt.xlim(2013.5,2023)\n",
    "plt.title('Total KC Homicides per Year')\n",
    "plt.ylabel('Homidice Police Reports')\n",
    "\n",
    "plt.show()"
   ]
  },
  {
   "cell_type": "code",
   "execution_count": 67,
   "metadata": {},
   "outputs": [
    {
     "name": "stdout",
     "output_type": "stream",
     "text": [
      "RMSE: 25.754598030667474, R2: 0.8421007458955985\n"
     ]
    }
   ],
   "source": [
    "# Calculate MSE and R2\n",
    "murder_RMSE = np.sqrt(mean_squared_error(ym, ym_poly_pred))\n",
    "murder_r2 = r2_score(ym, ym_poly_pred)\n",
    "\n",
    "print(f\"RMSE: {murder_RMSE}, R2: {murder_r2}\")"
   ]
  },
  {
   "cell_type": "code",
   "execution_count": null,
   "metadata": {},
   "outputs": [],
   "source": []
  }
 ],
 "metadata": {
  "kernelspec": {
   "display_name": "Python 3",
   "language": "python",
   "name": "python3"
  },
  "language_info": {
   "codemirror_mode": {
    "name": "ipython",
    "version": 3
   },
   "file_extension": ".py",
   "mimetype": "text/x-python",
   "name": "python",
   "nbconvert_exporter": "python",
   "pygments_lexer": "ipython3",
   "version": "3.7.6"
  }
 },
 "nbformat": 4,
 "nbformat_minor": 4
}
